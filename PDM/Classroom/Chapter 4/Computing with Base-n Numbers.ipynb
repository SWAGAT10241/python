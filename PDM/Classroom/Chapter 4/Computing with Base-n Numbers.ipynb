{
 "cells": [
  {
   "cell_type": "markdown",
   "metadata": {},
   "source": [
    "# Computing with Base-n Numbers"
   ]
  },
  {
   "cell_type": "code",
   "execution_count": 1,
   "metadata": {},
   "outputs": [
    {
     "name": "stdout",
     "output_type": "stream",
     "text": [
      "    CustomerID Country      State       City  Zip - Code\n",
      "0            1     USA    Georgia    Atlanta       30332\n",
      "1            2   India  Karnataka  Bangalore      560001\n",
      "2            3  Canada    Ontario    Toronto    M4B- 1B3\n"
     ]
    }
   ],
   "source": [
    "import pandas as pd\n",
    "data = {\n",
    "\" CustomerID\" : [1, 2, 3] ,\n",
    "\"Country\" : [\"USA\"\n",
    ", \"India\", \"Canada\"],\n",
    "\" State\" : [\" Georgia\", \"Karnataka\" ,\"Ontario\"],\n",
    "\" City\" : [\"Atlanta\",\"Bangalore\",\" Toronto\"],\n",
    "\" Zip - Code\" : [\"30332\" , \"560001\" , \"M4B- 1B3\" ]\n",
    "}\n",
    "df = pd. DataFrame(data)\n",
    "print(df)"
   ]
  },
  {
   "cell_type": "code",
   "execution_count": 2,
   "metadata": {},
   "outputs": [
    {
     "name": "stdout",
     "output_type": "stream",
     "text": [
      "0.05968904495239258\n"
     ]
    }
   ],
   "source": [
    "import time\n",
    "number = 1000000\n",
    "start = time.time()\n",
    "list = [None]*number\n",
    "for i in range(number):\n",
    "    list[i] = i\n",
    "print(time.time() - start)"
   ]
  },
  {
   "cell_type": "code",
   "execution_count": 1,
   "metadata": {},
   "outputs": [
    {
     "name": "stdout",
     "output_type": "stream",
     "text": [
      "0.047866106033325195\n"
     ]
    }
   ],
   "source": [
    "import time\n",
    "number = 1000000\n",
    "structure = time.time()\n",
    "list = []\n",
    "for i in range(number):\n",
    "    list.append(i)\n",
    "print(time.time() - structure)"
   ]
  },
  {
   "cell_type": "markdown",
   "metadata": {},
   "source": [
    "## list of List"
   ]
  },
  {
   "cell_type": "code",
   "execution_count": 3,
   "metadata": {},
   "outputs": [
    {
     "name": "stdout",
     "output_type": "stream",
     "text": [
      "1\n",
      "2\n",
      "3\n",
      "4\n",
      "5\n",
      "6\n",
      "7\n",
      "8\n",
      "9\n",
      "10\n",
      "11\n",
      "12\n",
      "13\n",
      "14\n"
     ]
    }
   ],
   "source": [
    "def Complex_func(list):\n",
    "    count = 0\n",
    "    for i in range(6):\n",
    "        count += 1\n",
    "        print(count)\n",
    "    for j in list:\n",
    "        count += 1\n",
    "        print(count)\n",
    "    for k in list:\n",
    "        count += 1\n",
    "        print(count)\n",
    "Complex_func([1,2,3,4])\n"
   ]
  },
  {
   "cell_type": "code",
   "execution_count": 9,
   "metadata": {},
   "outputs": [
    {
     "name": "stdout",
     "output_type": "stream",
     "text": [
      "0 nzohfu gur rarzl nz avtug\n",
      "1 oapigv hvs sbsam oa bwuvh\n",
      "2 pbqjhw iwt tctbn pb cxvwi\n",
      "3 qcrkix jxu uduco qc dywxj\n",
      "4 rdsljy kyv vevdp rd ezxyk\n",
      "5 setmkz lzw wfweq se fayzl\n",
      "6 tfunla max xgxfr tf gbzam\n",
      "7 ugvomb nby yhygs ug hcabn\n",
      "8 vhwpnc ocz zizht vh idbco\n",
      "9 wixqod pda ajaiu wi jecdp\n",
      "10 xjyrpe qeb bkbjv xj kfdeq\n",
      "11 ykzsqf rfc clckw yk lgefr\n",
      "12 zlatrg sgd dmdlx zl mhfgs\n",
      "13 ambush the enemy am night\n",
      "14 bncvti uif fofnz bn ojhiu\n",
      "15 codwuj vjg gpgoa co pkijv\n",
      "16 dpexvk wkh hqhpb dp qljkw\n",
      "17 eqfywl xli iriqc eq rmklx\n",
      "18 frgzxm ymj jsjrd fr snlmy\n",
      "19 gshayn znk ktkse gs tomnz\n",
      "20 htibzo aol lultf ht upnoa\n",
      "21 iujcap bpm mvmug iu vqopb\n",
      "22 jvkdbq cqn nwnvh jv wrpqc\n",
      "23 kwlecr dro oxowi kw xsqrd\n",
      "24 lxmfds esp pypxj lx ytrse\n",
      "25 mynget ftq qzqyk my zustf\n"
     ]
    }
   ],
   "source": [
    "Codedmessage = 'nzohfu gur rarzl nz avtug'\n",
    "for counter in range(26):\n",
    "    guessmessage = ''\n",
    "    for x in Codedmessage:\n",
    "        if x != ' ':\n",
    "            if ord(x) + counter <= 122:\n",
    "                x = chr(ord(x) + counter)\n",
    "            else:\n",
    "                x = chr(ord(x) + counter - 26)\n",
    "        guessmessage += x\n",
    "    print(counter, guessmessage)"
   ]
  },
  {
   "cell_type": "code",
   "execution_count": 2,
   "metadata": {},
   "outputs": [
    {
     "name": "stdout",
     "output_type": "stream",
     "text": [
      "   CustomerID Country      State       City Zip - Code\n",
      "0           1     USA    Georgia    Atlanta      30332\n",
      "1           2   India  Karnataka  Bangalore     560001\n",
      "2           3  Canada    Ontario    Toronto   M4B- 1B3\n"
     ]
    }
   ],
   "source": [
    "import pandas as pd\n",
    "data =[[1,\"USA\",\"Georgia\",\"Atlanta\",\"30332\"],\n",
    "[2,\"India\",\"Karnataka\",\"Bangalore\",\"560001\"],\n",
    "[3,\"Canada\",\"Ontario\",\"Toronto\",\"M4B- 1B3\"]]\n",
    "df2 = pd.DataFrame(data, columns=[\"CustomerID\",\"Country\",\"State\",\"City\",\"Zip - Code\"])\n",
    "print(df2)"
   ]
  },
  {
   "cell_type": "code",
   "execution_count": 3,
   "metadata": {},
   "outputs": [
    {
     "name": "stdout",
     "output_type": "stream",
     "text": [
      "<itertools.product object at 0x117d6a440>\n"
     ]
    }
   ],
   "source": [
    "import itertools\n",
    "print(itertools.product([0,1],[0,1]))\n"
   ]
  },
  {
   "cell_type": "code",
   "execution_count": 3,
   "metadata": {},
   "outputs": [
    {
     "name": "stdout",
     "output_type": "stream",
     "text": [
      "   CustomerID Country      State       City Zip# Code\n",
      "0           1     USA    Georgia    Atlanta     30332\n",
      "1           2   India  Karnataka  Bangalore    560001\n",
      "2           3  Canada    Ontario    Toronto  M4B# 1B3\n"
     ]
    }
   ],
   "source": [
    "import pandas as pd\n",
    "data = {\n",
    "\t\"CustomerID\": [1, 2, 3],\n",
    "\t\"Country\": [\"USA\", \"India\", \"Canada\"],\n",
    "\t\"State\": [\"Georgia\", \"Karnataka\", \"Ontario\"],\n",
    "\t\"City\": [\"Atlanta\", \"Bangalore\", \"Toronto\"],\n",
    "\t\"Zip# Code\": [\"30332\", \"560001\", \"M4B# 1B3\"]\n",
    "}\n",
    "df = pd.DataFrame(data)\n",
    "print(df)"
   ]
  },
  {
   "cell_type": "markdown",
   "metadata": {},
   "source": [
    "`What will be the the output?`<br>\n",
    "\n",
    "<itertools.product object at 0x117d6a440><br>\n",
    "It's show hexa- decimal (integer) value,that is basically address of this method.<br>\n"
   ]
  },
  {
   "cell_type": "code",
   "execution_count": 2,
   "metadata": {},
   "outputs": [
    {
     "name": "stdout",
     "output_type": "stream",
     "text": [
      "0x9287003f2f7a\n"
     ]
    }
   ],
   "source": [
    "import uuid\n",
    "print(hex(uuid.getnode()))"
   ]
  },
  {
   "cell_type": "code",
   "execution_count": 10,
   "metadata": {},
   "outputs": [
    {
     "name": "stdout",
     "output_type": "stream",
     "text": [
      "0x17491ec517\n"
     ]
    }
   ],
   "source": [
    "x = 100011001111\n",
    "print(hex(x))"
   ]
  },
  {
   "cell_type": "code",
   "execution_count": 6,
   "metadata": {},
   "outputs": [
    {
     "name": "stdout",
     "output_type": "stream",
     "text": [
      "2255\n"
     ]
    }
   ],
   "source": [
    "x = int(\"100011001111\",2)\n",
    "print(x)"
   ]
  }
 ],
 "metadata": {
  "kernelspec": {
   "display_name": "Python 3",
   "language": "python",
   "name": "python3"
  },
  "language_info": {
   "codemirror_mode": {
    "name": "ipython",
    "version": 3
   },
   "file_extension": ".py",
   "mimetype": "text/x-python",
   "name": "python",
   "nbconvert_exporter": "python",
   "pygments_lexer": "ipython3",
   "version": "3.13.2"
  }
 },
 "nbformat": 4,
 "nbformat_minor": 2
}
