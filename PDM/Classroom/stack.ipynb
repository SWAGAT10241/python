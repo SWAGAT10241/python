{
 "cells": [
  {
   "cell_type": "code",
   "execution_count": 3,
   "id": "f121b252",
   "metadata": {},
   "outputs": [
    {
     "name": "stdout",
     "output_type": "stream",
     "text": [
      "0\n",
      "1\n",
      "2\n",
      "3\n",
      "4\n"
     ]
    }
   ],
   "source": [
    "def dfs_iterative_adj_matrix (graph, start):\n",
    "    n = len (graph)\n",
    "    visited = [False] * n\n",
    "    stack = [start]\n",
    "\n",
    "    while stack:\n",
    "        node = stack. pop ()\n",
    "        if not visited[node] :\n",
    "            print (node)\n",
    "# or collect nodes in a list\n",
    "            visited [node] = True\n",
    "# Add neighbors to stack\n",
    "# Iterate in reverse order to maintain similar\n",
    "            for neighbor in range (n-1, -1, -1) :\n",
    "                if graph [node] [neighbor] == 1 and not visited[neighbor]:\n",
    "                    stack. append (neighbor)\n",
    "\n",
    "n = 5\n",
    "graph = [\n",
    "    [0, 1, 0, 1, 0],\n",
    "    [1, 0, 1, 0, 1],\n",
    "    [0, 1, 0, 1, 0],\n",
    "    [1, 0, 1, 0, 1],\n",
    "    [0, 1, 0, 1, 0]\n",
    "]\n",
    "dfs_iterative_adj_matrix(graph, 0)"
   ]
  }
 ],
 "metadata": {
  "kernelspec": {
   "display_name": "Python 3",
   "language": "python",
   "name": "python3"
  },
  "language_info": {
   "codemirror_mode": {
    "name": "ipython",
    "version": 3
   },
   "file_extension": ".py",
   "mimetype": "text/x-python",
   "name": "python",
   "nbconvert_exporter": "python",
   "pygments_lexer": "ipython3",
   "version": "3.11.9"
  }
 },
 "nbformat": 4,
 "nbformat_minor": 5
}
