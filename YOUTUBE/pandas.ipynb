{
 "cells": [
  {
   "cell_type": "code",
   "execution_count": 1,
   "metadata": {},
   "outputs": [
    {
     "data": {
      "text/html": [
       "<div>\n",
       "<style scoped>\n",
       "    .dataframe tbody tr th:only-of-type {\n",
       "        vertical-align: middle;\n",
       "    }\n",
       "\n",
       "    .dataframe tbody tr th {\n",
       "        vertical-align: top;\n",
       "    }\n",
       "\n",
       "    .dataframe thead th {\n",
       "        text-align: right;\n",
       "    }\n",
       "</style>\n",
       "<table border=\"1\" class=\"dataframe\">\n",
       "  <thead>\n",
       "    <tr style=\"text-align: right;\">\n",
       "      <th></th>\n",
       "      <th>CustomerID  Country  State       City      Zip Code</th>\n",
       "    </tr>\n",
       "  </thead>\n",
       "  <tbody>\n",
       "    <tr>\n",
       "      <th>0</th>\n",
       "      <td>1           USA      Georgia     Atlanta   30332</td>\n",
       "    </tr>\n",
       "    <tr>\n",
       "      <th>1</th>\n",
       "      <td>2           USA      Georgia     Atlanta   30331</td>\n",
       "    </tr>\n",
       "    <tr>\n",
       "      <th>2</th>\n",
       "      <td>3           USA      Florida     Melbourne 30912</td>\n",
       "    </tr>\n",
       "    <tr>\n",
       "      <th>3</th>\n",
       "      <td>4           USA      Florida     Tampa     30123</td>\n",
       "    </tr>\n",
       "    <tr>\n",
       "      <th>4</th>\n",
       "      <td>5           India    Karnataka   Bangalore 560001</td>\n",
       "    </tr>\n",
       "  </tbody>\n",
       "</table>\n",
       "</div>"
      ],
      "text/plain": [
       "  CustomerID  Country  State       City      Zip Code\n",
       "0   1           USA      Georgia     Atlanta   30332 \n",
       "1   2           USA      Georgia     Atlanta   30331 \n",
       "2   3           USA      Florida     Melbourne 30912 \n",
       "3   4           USA      Florida     Tampa     30123 \n",
       "4  5           India    Karnataka   Bangalore 560001 "
      ]
     },
     "execution_count": 1,
     "metadata": {},
     "output_type": "execute_result"
    }
   ],
   "source": [
    "import pandas as pd\n",
    "import numpy as np\n",
    "pf = pd.read_csv('/Users/swagatsouravdhar/SEMISTER2/PYTHON/YOUTUBE/customer_anazylses-data.txt', sep='\\t')\n",
    "pf.head()"
   ]
  },
  {
   "cell_type": "code",
   "execution_count": 2,
   "metadata": {},
   "outputs": [
    {
     "name": "stdout",
     "output_type": "stream",
     "text": [
      "  CustomerID  Country  State       City      Zip Code\n",
      "0   1           USA      Georgia     Atlanta   30332 \n",
      "1   2           USA      Georgia     Atlanta   30331 \n",
      "2   3           USA      Florida     Melbourne 30912 \n",
      "3   4           USA      Florida     Tampa     30123 \n",
      "4  5           India    Karnataka   Bangalore 560001 \n",
      "5  6           India    Maharashtra Mumbai    578234 \n",
      "6  7           India    Karnataka   Hubli     569823 \n",
      "7  8           India    Maharashtra Mumbai    578234 \n",
      "8   9           Germany  Bavaria     Munich    80331 \n",
      "9  10          Canada   Ontario     Toronto   M4B... \n"
     ]
    }
   ],
   "source": [
    "print(pf)"
   ]
  },
  {
   "cell_type": "code",
   "execution_count": 3,
   "metadata": {},
   "outputs": [
    {
     "data": {
      "text/html": [
       "<div>\n",
       "<style scoped>\n",
       "    .dataframe tbody tr th:only-of-type {\n",
       "        vertical-align: middle;\n",
       "    }\n",
       "\n",
       "    .dataframe tbody tr th {\n",
       "        vertical-align: top;\n",
       "    }\n",
       "\n",
       "    .dataframe thead th {\n",
       "        text-align: right;\n",
       "    }\n",
       "</style>\n",
       "<table border=\"1\" class=\"dataframe\">\n",
       "  <thead>\n",
       "    <tr style=\"text-align: right;\">\n",
       "      <th></th>\n",
       "      <th>CustomerID  Country  State       City      Zip Code</th>\n",
       "    </tr>\n",
       "  </thead>\n",
       "  <tbody>\n",
       "    <tr>\n",
       "      <th>count</th>\n",
       "      <td>10</td>\n",
       "    </tr>\n",
       "    <tr>\n",
       "      <th>unique</th>\n",
       "      <td>10</td>\n",
       "    </tr>\n",
       "    <tr>\n",
       "      <th>top</th>\n",
       "      <td>1           USA      Georgia     Atlanta   30332</td>\n",
       "    </tr>\n",
       "    <tr>\n",
       "      <th>freq</th>\n",
       "      <td>1</td>\n",
       "    </tr>\n",
       "  </tbody>\n",
       "</table>\n",
       "</div>"
      ],
      "text/plain": [
       "       CustomerID  Country  State       City      Zip Code\n",
       "count                                                  10 \n",
       "unique                                                 10 \n",
       "top      1           USA      Georgia     Atlanta   30332 \n",
       "freq                                                    1 "
      ]
     },
     "execution_count": 3,
     "metadata": {},
     "output_type": "execute_result"
    }
   ],
   "source": [
    "pf.describe()"
   ]
  },
  {
   "cell_type": "code",
   "execution_count": 4,
   "metadata": {},
   "outputs": [
    {
     "data": {
      "text/plain": [
       "CustomerID  Country  State       City      Zip Code\n",
       "1           USA      Georgia     Atlanta   30332      1\n",
       "2           USA      Georgia     Atlanta   30331      1\n",
       "3           USA      Florida     Melbourne 30912      1\n",
       "4           USA      Florida     Tampa     30123      1\n",
       "5           India    Karnataka   Bangalore 560001     1\n",
       "6           India    Maharashtra Mumbai    578234     1\n",
       "7           India    Karnataka   Hubli     569823     1\n",
       "8           India    Maharashtra Mumbai    578234     1\n",
       "9           Germany  Bavaria     Munich    80331      1\n",
       "10          Canada   Ontario     Toronto   M4B 1B3    1\n",
       "Name: count, dtype: int64"
      ]
     },
     "execution_count": 4,
     "metadata": {},
     "output_type": "execute_result"
    }
   ],
   "source": [
    "pf['CustomerID  Country  State       City      Zip Code'].value_counts()"
   ]
  },
  {
   "cell_type": "code",
   "execution_count": 5,
   "metadata": {},
   "outputs": [
    {
     "data": {
      "text/html": [
       "<div>\n",
       "<style scoped>\n",
       "    .dataframe tbody tr th:only-of-type {\n",
       "        vertical-align: middle;\n",
       "    }\n",
       "\n",
       "    .dataframe tbody tr th {\n",
       "        vertical-align: top;\n",
       "    }\n",
       "\n",
       "    .dataframe thead th {\n",
       "        text-align: right;\n",
       "    }\n",
       "</style>\n",
       "<table border=\"1\" class=\"dataframe\">\n",
       "  <thead>\n",
       "    <tr style=\"text-align: right;\">\n",
       "      <th></th>\n",
       "      <th>CustomerID  Country  State       City      Zip Code</th>\n",
       "    </tr>\n",
       "  </thead>\n",
       "  <tbody>\n",
       "    <tr>\n",
       "      <th>0</th>\n",
       "      <td>1           USA      Georgia     Atlanta   30332</td>\n",
       "    </tr>\n",
       "    <tr>\n",
       "      <th>1</th>\n",
       "      <td>2           USA      Georgia     Atlanta   30331</td>\n",
       "    </tr>\n",
       "    <tr>\n",
       "      <th>2</th>\n",
       "      <td>3           USA      Florida     Melbourne 30912</td>\n",
       "    </tr>\n",
       "    <tr>\n",
       "      <th>3</th>\n",
       "      <td>4           USA      Florida     Tampa     30123</td>\n",
       "    </tr>\n",
       "    <tr>\n",
       "      <th>4</th>\n",
       "      <td>5           India    Karnataka   Bangalore 560001</td>\n",
       "    </tr>\n",
       "    <tr>\n",
       "      <th>5</th>\n",
       "      <td>6           India    Maharashtra Mumbai    578234</td>\n",
       "    </tr>\n",
       "    <tr>\n",
       "      <th>6</th>\n",
       "      <td>7           India    Karnataka   Hubli     569823</td>\n",
       "    </tr>\n",
       "    <tr>\n",
       "      <th>7</th>\n",
       "      <td>8           India    Maharashtra Mumbai    578234</td>\n",
       "    </tr>\n",
       "    <tr>\n",
       "      <th>8</th>\n",
       "      <td>9           Germany  Bavaria     Munich    80331</td>\n",
       "    </tr>\n",
       "    <tr>\n",
       "      <th>9</th>\n",
       "      <td>10          Canada   Ontario     Toronto   M4B...</td>\n",
       "    </tr>\n",
       "  </tbody>\n",
       "</table>\n",
       "</div>"
      ],
      "text/plain": [
       "  CustomerID  Country  State       City      Zip Code\n",
       "0   1           USA      Georgia     Atlanta   30332 \n",
       "1   2           USA      Georgia     Atlanta   30331 \n",
       "2   3           USA      Florida     Melbourne 30912 \n",
       "3   4           USA      Florida     Tampa     30123 \n",
       "4  5           India    Karnataka   Bangalore 560001 \n",
       "5  6           India    Maharashtra Mumbai    578234 \n",
       "6  7           India    Karnataka   Hubli     569823 \n",
       "7  8           India    Maharashtra Mumbai    578234 \n",
       "8   9           Germany  Bavaria     Munich    80331 \n",
       "9  10          Canada   Ontario     Toronto   M4B... "
      ]
     },
     "execution_count": 5,
     "metadata": {},
     "output_type": "execute_result"
    }
   ],
   "source": [
    "pf.dropna()"
   ]
  },
  {
   "cell_type": "code",
   "execution_count": 6,
   "metadata": {},
   "outputs": [
    {
     "name": "stdout",
     "output_type": "stream",
     "text": [
      "  CustomerID  Country  State       City      Zip Code  \\\n",
      "0   1           USA      Georgia     Atlanta   30332    \n",
      "1   2           USA      Georgia     Atlanta   30331    \n",
      "2   3           USA      Florida     Melbourne 30912    \n",
      "3   4           USA      Florida     Tampa     30123    \n",
      "4  5           India    Karnataka   Bangalore 560001    \n",
      "5  6           India    Maharashtra Mumbai    578234    \n",
      "6  7           India    Karnataka   Hubli     569823    \n",
      "7  8           India    Maharashtra Mumbai    578234    \n",
      "8   9           Germany  Bavaria     Munich    80331    \n",
      "9  10          Canada   Ontario     Toronto   M4B...    \n",
      "\n",
      "                                                 2x2  \n",
      "0  1           USA      Georgia     Atlanta   303...  \n",
      "1  2           USA      Georgia     Atlanta   303...  \n",
      "2  3           USA      Florida     Melbourne 309...  \n",
      "3  4           USA      Florida     Tampa     301...  \n",
      "4  5           India    Karnataka   Bangalore 560...  \n",
      "5  6           India    Maharashtra Mumbai    578...  \n",
      "6  7           India    Karnataka   Hubli     569...  \n",
      "7  8           India    Maharashtra Mumbai    578...  \n",
      "8  9           Germany  Bavaria     Munich    803...  \n",
      "9  10          Canada   Ontario     Toronto   M4B...  \n"
     ]
    }
   ],
   "source": [
    "pf['2x2'] = pf['CustomerID  Country  State       City      Zip Code'].apply(lambda x: x*2)\n",
    "print(pf)"
   ]
  },
  {
   "cell_type": "code",
   "execution_count": 7,
   "metadata": {},
   "outputs": [
    {
     "data": {
      "text/html": [
       "<div>\n",
       "<style scoped>\n",
       "    .dataframe tbody tr th:only-of-type {\n",
       "        vertical-align: middle;\n",
       "    }\n",
       "\n",
       "    .dataframe tbody tr th {\n",
       "        vertical-align: top;\n",
       "    }\n",
       "\n",
       "    .dataframe thead th {\n",
       "        text-align: right;\n",
       "    }\n",
       "</style>\n",
       "<table border=\"1\" class=\"dataframe\">\n",
       "  <thead>\n",
       "    <tr style=\"text-align: right;\">\n",
       "      <th></th>\n",
       "      <th>CustomerID  Country  State       City      Zip Code</th>\n",
       "      <th>2x2</th>\n",
       "    </tr>\n",
       "  </thead>\n",
       "  <tbody>\n",
       "    <tr>\n",
       "      <th>0</th>\n",
       "      <td>1           USA      Georgia     Atlanta   30332</td>\n",
       "      <td>1           USA      Georgia     Atlanta   303...</td>\n",
       "    </tr>\n",
       "    <tr>\n",
       "      <th>1</th>\n",
       "      <td>2           USA      Georgia     Atlanta   30331</td>\n",
       "      <td>2           USA      Georgia     Atlanta   303...</td>\n",
       "    </tr>\n",
       "    <tr>\n",
       "      <th>2</th>\n",
       "      <td>3           USA      Florida     Melbourne 30912</td>\n",
       "      <td>3           USA      Florida     Melbourne 309...</td>\n",
       "    </tr>\n",
       "    <tr>\n",
       "      <th>3</th>\n",
       "      <td>4           USA      Florida     Tampa     30123</td>\n",
       "      <td>4           USA      Florida     Tampa     301...</td>\n",
       "    </tr>\n",
       "    <tr>\n",
       "      <th>4</th>\n",
       "      <td>5           India    Karnataka   Bangalore 560001</td>\n",
       "      <td>5           India    Karnataka   Bangalore 560...</td>\n",
       "    </tr>\n",
       "    <tr>\n",
       "      <th>5</th>\n",
       "      <td>6           India    Maharashtra Mumbai    578234</td>\n",
       "      <td>6           India    Maharashtra Mumbai    578...</td>\n",
       "    </tr>\n",
       "    <tr>\n",
       "      <th>6</th>\n",
       "      <td>7           India    Karnataka   Hubli     569823</td>\n",
       "      <td>7           India    Karnataka   Hubli     569...</td>\n",
       "    </tr>\n",
       "    <tr>\n",
       "      <th>7</th>\n",
       "      <td>8           India    Maharashtra Mumbai    578234</td>\n",
       "      <td>8           India    Maharashtra Mumbai    578...</td>\n",
       "    </tr>\n",
       "    <tr>\n",
       "      <th>8</th>\n",
       "      <td>9           Germany  Bavaria     Munich    80331</td>\n",
       "      <td>9           Germany  Bavaria     Munich    803...</td>\n",
       "    </tr>\n",
       "    <tr>\n",
       "      <th>9</th>\n",
       "      <td>10          Canada   Ontario     Toronto   M4B...</td>\n",
       "      <td>10          Canada   Ontario     Toronto   M4B...</td>\n",
       "    </tr>\n",
       "  </tbody>\n",
       "</table>\n",
       "</div>"
      ],
      "text/plain": [
       "  CustomerID  Country  State       City      Zip Code  \\\n",
       "0   1           USA      Georgia     Atlanta   30332    \n",
       "1   2           USA      Georgia     Atlanta   30331    \n",
       "2   3           USA      Florida     Melbourne 30912    \n",
       "3   4           USA      Florida     Tampa     30123    \n",
       "4  5           India    Karnataka   Bangalore 560001    \n",
       "5  6           India    Maharashtra Mumbai    578234    \n",
       "6  7           India    Karnataka   Hubli     569823    \n",
       "7  8           India    Maharashtra Mumbai    578234    \n",
       "8   9           Germany  Bavaria     Munich    80331    \n",
       "9  10          Canada   Ontario     Toronto   M4B...    \n",
       "\n",
       "                                                 2x2  \n",
       "0  1           USA      Georgia     Atlanta   303...  \n",
       "1  2           USA      Georgia     Atlanta   303...  \n",
       "2  3           USA      Florida     Melbourne 309...  \n",
       "3  4           USA      Florida     Tampa     301...  \n",
       "4  5           India    Karnataka   Bangalore 560...  \n",
       "5  6           India    Maharashtra Mumbai    578...  \n",
       "6  7           India    Karnataka   Hubli     569...  \n",
       "7  8           India    Maharashtra Mumbai    578...  \n",
       "8  9           Germany  Bavaria     Munich    803...  \n",
       "9  10          Canada   Ontario     Toronto   M4B...  "
      ]
     },
     "execution_count": 7,
     "metadata": {},
     "output_type": "execute_result"
    }
   ],
   "source": [
    "pf"
   ]
  }
 ],
 "metadata": {
  "kernelspec": {
   "display_name": "Python 3",
   "language": "python",
   "name": "python3"
  },
  "language_info": {
   "codemirror_mode": {
    "name": "ipython",
    "version": 3
   },
   "file_extension": ".py",
   "mimetype": "text/x-python",
   "name": "python",
   "nbconvert_exporter": "python",
   "pygments_lexer": "ipython3",
   "version": "3.13.2"
  }
 },
 "nbformat": 4,
 "nbformat_minor": 2
}
